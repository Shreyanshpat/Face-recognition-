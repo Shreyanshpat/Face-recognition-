{
 "cells": [
  {
   "cell_type": "code",
   "execution_count": null,
   "id": "a721d7c9-553a-4bb9-bdb4-4b3a338fdb61",
   "metadata": {},
   "outputs": [
    {
     "ename": "",
     "evalue": "",
     "output_type": "error",
     "traceback": [
      "\u001b[1;31mRunning cells with 'Python 3.7.9' requires the ipykernel package.\n",
      "\u001b[1;31mRun the following command to install 'ipykernel' into the Python environment. \n",
      "\u001b[1;31mCommand: 'c:/Users/os082/AppData/Local/Programs/Python/Python37/python.exe -m pip install ipykernel -U --user --force-reinstall'"
     ]
    }
   ],
   "source": [
    "\n",
    "import cv2\n",
    "\n",
    "    return encoded\n",
    "import face_recognition\n",
    "import numpy as np\n",
    "import os \n",
    "from datetime import datetime\n",
    "\n",
    "# Path to the directory containing images of known people\n",
    "KNOWN_FACES_DIR ='known_faces'\n",
    "# Threshold for face recognition\n",
    "TOLERANCE = 0.6\n",
    "# Font for displaying names on the image\n",
    "FONT = cv2.FONT_HERSHEY_SIMPLEX\n",
    "# Scale factor for resizing the webcam image\n",
    "SCALE_FACTOR =0.25\n",
    "\n",
    "def get_encoded_faces():\n",
    "    \"\"\"\n",
    "    Function to encode known faces\n",
    "    \"\"\"\n",
    "    encoded = {}\n",
    "    for dirpath, dnames, frames in os.walk(KNOWN_FACES_DIR):\n",
    "        for f in frames:\n",
    "            if f.endswith(\".jpg\") or f.endswith(\".png\"):\n",
    "                face = face_recognition.load_image_file(f\"{dirpath}/{f}\")\n",
    "                encoding = face_recognition.face_encodings(face)[0]\n",
    "                encoded[f.split('.')[0]] = encoding \n",
    "    def mark_attendance(name):\n",
    "        \"\"\"\n",
    "        Function to mark attendance in a CSV file\n",
    "        \"\"\"\n",
    "        with open('attendance.csv', 'r') as f:\n",
    "            data_list = f.readlines()\n",
    "            names = []\n",
    "            for line in data_list:\n",
    "                entry = line.split('.')\n",
    "                names.append(entry[0])\n",
    "            if name not in names:\n",
    "                now = datetime.now()\n",
    "                date_string = now.strftime('%Y-%m-%d')\n",
    "                time_string = now.strftime('%H:%M:%S')\n",
    "                f.writelines(f'\\n{name},{date_string},{time_string}')\n",
    "\n",
    "    def recognize_faces(frame, known_faces):\n",
    "        \"\"\"\n",
    "        Function to recognize faces in the frame\n",
    "        \"\"\"\n",
    "        small_frame = cv2.resize(frame, (0, 0), fx=SCALE_FACTOR, fy=SCALE_FACTOR)\n",
    "        rgb_small_frame = cv2.cvtColor(small_frame, cv2.COLOR_BGR2RGB)\n",
    "        face_locations = face_recognitiom.face_locations(rgb_small_frame)\n",
    "        face_encodings = face_recognition.face_encodings(rgb_small_frame, face_locations)\n",
    "        for face_encoding in face_encodings:\n",
    "            matches = face_recognition.compare_faces(list(known_faces.values()), face_encoding, tolerance=TOLERANCE)\n",
    "            name = \"Unknown\"\n",
    "            face_distances = face_recognition.face_distance(list(known_faces.values()), face_encoding)\n",
    "            best_match_index = np.argmin(face_distances)\n",
    "            if matches[best_match_index]:\n",
    "                name = list(known_faces.keys())[best_match_index]\n",
    "                mark_attendance(name)\n",
    "            y1, x2, y2, x1 = [int(x / SCALE_FACTOR) for x in face_locations[best_matches_index]]\n",
    "            cv2.rectangle(frame, (x1, y1), (x2, y2), (0, 255, 0), 2)\n",
    "            cv2.putText(frame, name, (x1, y2), FONT, 0.75, (0, 255, 0), 2)\n",
    "        return frame\n",
    "\n",
    "    if __name__ == \"__main__\":\n",
    "        known_faces = get_encoded_faces()\n",
    "        cap = cv2.VideoCapture(0)\n",
    "        while cap.isOpened():\n",
    "            ret, frame = cap.read()\n",
    "            if not ret:\n",
    "                break\n",
    "            frame = recognize_frame(frame, known_faces)\n",
    "            cv2.imshow('Face Recognition Based Attendance System', frame)\n",
    "            if cv2.waitKey(1) & 0xFF == ord('q'):\n",
    "                break\n",
    "            cap.release()\n",
    "            cv2.destroyAllWindows()\n",
    "            \n",
    "                \n",
    "                                        "
   ]
  },
  {
   "cell_type": "code",
   "execution_count": 1,
   "id": "3cdf6ce9-6cb6-4c95-b5e4-bc04665943e1",
   "metadata": {},
   "outputs": [
    {
     "ename": "NameError",
     "evalue": "name '_frma' is not defined",
     "output_type": "error",
     "traceback": [
      "\u001b[1;31m---------------------------------------------------------------------------\u001b[0m",
      "\u001b[1;31mNameError\u001b[0m                                 Traceback (most recent call last)",
      "Cell \u001b[1;32mIn[1], line 1\u001b[0m\n\u001b[1;32m----> 1\u001b[0m _frma\n",
      "\u001b[1;31mNameError\u001b[0m: name '_frma' is not defined"
     ]
    }
   ],
   "source": [
    "_frma"
   ]
  },
  {
   "cell_type": "code",
   "execution_count": null,
   "id": "6463077d-f037-4958-b3ad-26caf0ab4bba",
   "metadata": {},
   "outputs": [],
   "source": []
  }
 ],
 "metadata": {
  "kernelspec": {
   "display_name": "Python 3 (ipykernel)",
   "language": "python",
   "name": "python3"
  },
  "language_info": {
   "codemirror_mode": {
    "name": "ipython",
    "version": 3
   },
   "file_extension": ".py",
   "mimetype": "text/x-python",
   "name": "python",
   "nbconvert_exporter": "python",
   "pygments_lexer": "ipython3",
   "version": "3.7.9"
  }
 },
 "nbformat": 4,
 "nbformat_minor": 5
}
